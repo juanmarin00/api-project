{
 "cells": [
  {
   "cell_type": "code",
   "execution_count": null,
   "metadata": {},
   "outputs": [],
   "source": [
    "#WEB APP CON PYTHON"
   ]
  },
  {
   "cell_type": "markdown",
   "metadata": {},
   "source": [
    "![cover](../images/cover.jpg)"
   ]
  },
  {
   "cell_type": "markdown",
   "metadata": {},
   "source": [
    "## ¿Qué es Flask?"
   ]
  },
  {
   "cell_type": "markdown",
   "metadata": {},
   "source": [
    "Flask es un framework minimalista escrito en Python que permite crear aplicaciones web rápidamente y con un mínimo número de líneas de código"
   ]
  },
  {
   "cell_type": "markdown",
   "metadata": {},
   "source": [
    "### Doc de Flask"
   ]
  },
  {
   "cell_type": "markdown",
   "metadata": {},
   "source": [
    "- https://flask.palletsprojects.com/en/1.1.x/"
   ]
  },
  {
   "cell_type": "markdown",
   "metadata": {},
   "source": [
    "### Otros frameworks"
   ]
  },
  {
   "cell_type": "markdown",
   "metadata": {},
   "source": [
    "- https://www.streamlit.io/\n",
    "- https://fastapi.tiangolo.com/"
   ]
  },
  {
   "cell_type": "markdown",
   "metadata": {},
   "source": [
    "## Introducción a los decoradores"
   ]
  },
  {
   "cell_type": "markdown",
   "metadata": {},
   "source": [
    "### ¿Qué son los decoradores?"
   ]
  },
  {
   "cell_type": "markdown",
   "metadata": {},
   "source": [
    "Los decoradores son en sí mismos funciones, que toman como argumento una función y retornan otra función. \n",
    "Funciones que añaden \"funcionalidades\" a otras funciones.\n",
    "Realmente son 3 funciones:\n",
    "A, B Y C\n",
    "Donde:\n",
    "A es una función que recibe como parámetro B para devolver C"
   ]
  },
  {
   "cell_type": "markdown",
   "metadata": {},
   "source": [
    "Enlacito\n",
    "- https://recursospython.com/guias-y-manuales/decoradores/"
   ]
  },
  {
   "cell_type": "markdown",
   "metadata": {},
   "source": [
    "### Estructura"
   ]
  },
  {
   "cell_type": "code",
   "execution_count": null,
   "metadata": {},
   "outputs": [],
   "source": [
    "def función_decorador(función): \n",
    "    def función_interna(): \n",
    "        #código de la función interna\n",
    "        pass\n",
    "    return función_interna\n",
    "\n",
    "#función_decorador = Función A\n",
    "#función = Función B\n",
    "#función_interna = #Función C"
   ]
  },
  {
   "cell_type": "code",
   "execution_count": null,
   "metadata": {},
   "outputs": [],
   "source": [
    "import random"
   ]
  },
  {
   "cell_type": "code",
   "execution_count": 4,
   "metadata": {},
   "outputs": [],
   "source": [
    "def ras(fn):\n",
    "    def wrapper():\n",
    "        #acciones adicionales que decoran\n",
    "        frase = random.choice ([\"Ya es viernes\", \"Parfavar\", \"Quesemacerraozoom\",\"Muy disfrutón\", \"Súbete al cobete 🚀\"])\n",
    "        return f\"{frase} {fn()}\"\n",
    "    return wrapper"
   ]
  },
  {
   "cell_type": "code",
   "execution_count": 5,
   "metadata": {},
   "outputs": [],
   "source": [
    "@ras\n",
    "def randomName():\n",
    "    return random.choice([\"Sheriff\",\"Ignacio\",\"Fer\",\"Alumnado\"])"
   ]
  },
  {
   "cell_type": "code",
   "execution_count": 8,
   "metadata": {},
   "outputs": [
    {
     "name": "stdout",
     "output_type": "stream",
     "text": [
      "Ya es viernes Alumnado\n"
     ]
    }
   ],
   "source": [
    "print(randomName())"
   ]
  },
  {
   "cell_type": "markdown",
   "metadata": {},
   "source": [
    "#### ¡¡Hagámoslo!! 🚀\n",
    "- Crea una función básica que realice una suma, resta o alguna funcionalidad muy sencilla.\n",
    "- Crea un decorador que imprima un mensaje por pantalla cada vez que esa función es llamada"
   ]
  },
  {
   "cell_type": "markdown",
   "metadata": {},
   "source": [
    "## Vamos a crear una API"
   ]
  },
  {
   "cell_type": "markdown",
   "metadata": {},
   "source": [
    "API significa interfaz de programación de aplicaciones.\n",
    "Las API permiten que sus productos y servicios se comuniquen con otros, sin necesidad de saber cómo están implementados.\n",
    "Vamos a utilizar una API como elemento intermediario entre una base de datos y un usuario que quiere consultarla sin saber programación."
   ]
  },
  {
   "cell_type": "markdown",
   "metadata": {},
   "source": [
    "### Allá vamos 🔥"
   ]
  },
  {
   "cell_type": "code",
   "execution_count": 9,
   "metadata": {},
   "outputs": [],
   "source": [
    "#!pip3 install flask "
   ]
  },
  {
   "cell_type": "code",
   "execution_count": 2,
   "metadata": {
    "scrolled": true
   },
   "outputs": [
    {
     "name": "stdout",
     "output_type": "stream",
     "text": [
      " * Serving Flask app \"__main__\" (lazy loading)\n",
      " * Environment: production\n",
      "   WARNING: This is a development server. Do not use it in a production deployment.\n",
      "   Use a production WSGI server instead.\n",
      " * Debug mode: off\n"
     ]
    },
    {
     "name": "stderr",
     "output_type": "stream",
     "text": [
      " * Running on http://127.0.0.1:5000/ (Press CTRL+C to quit)\n"
     ]
    }
   ],
   "source": [
    "from flask import Flask, request \n",
    "app = Flask (__name__)\n",
    "\n",
    "@app.route(\"/\")\n",
    "def inicial():\n",
    "    return \"Hola pene\"\n",
    "\n",
    "if __name__ == '__main__':\n",
    "    app.run(debug=False)"
   ]
  },
  {
   "cell_type": "markdown",
   "metadata": {},
   "source": [
    "## Datos en Base de datos para Mongo"
   ]
  },
  {
   "cell_type": "code",
   "execution_count": null,
   "metadata": {},
   "outputs": [],
   "source": [
    "!kaggle datasets download -d eward96/harry-potter-and-the-philosophers-stone-script"
   ]
  },
  {
   "cell_type": "code",
   "execution_count": null,
   "metadata": {},
   "outputs": [],
   "source": [
    "!tar -xzvf harry-potter-and-the-philosophers-stone-script.zip"
   ]
  },
  {
   "cell_type": "code",
   "execution_count": null,
   "metadata": {},
   "outputs": [],
   "source": [
    "!rm -rf harry-potter-and-the-philosophers-stone-script.zip"
   ]
  },
  {
   "cell_type": "code",
   "execution_count": null,
   "metadata": {},
   "outputs": [],
   "source": [
    "!ls"
   ]
  },
  {
   "cell_type": "code",
   "execution_count": null,
   "metadata": {},
   "outputs": [],
   "source": [
    "!mv hp_script.csv ../data/hp_script.csv"
   ]
  },
  {
   "cell_type": "code",
   "execution_count": 1,
   "metadata": {},
   "outputs": [
    {
     "data": {
      "text/html": [
       "<div>\n",
       "<style scoped>\n",
       "    .dataframe tbody tr th:only-of-type {\n",
       "        vertical-align: middle;\n",
       "    }\n",
       "\n",
       "    .dataframe tbody tr th {\n",
       "        vertical-align: top;\n",
       "    }\n",
       "\n",
       "    .dataframe thead th {\n",
       "        text-align: right;\n",
       "    }\n",
       "</style>\n",
       "<table border=\"1\" class=\"dataframe\">\n",
       "  <thead>\n",
       "    <tr style=\"text-align: right;\">\n",
       "      <th></th>\n",
       "      <th>ID_number</th>\n",
       "      <th>scene</th>\n",
       "      <th>character_name</th>\n",
       "      <th>dialogue</th>\n",
       "    </tr>\n",
       "  </thead>\n",
       "  <tbody>\n",
       "    <tr>\n",
       "      <td>0</td>\n",
       "      <td>1</td>\n",
       "      <td>1</td>\n",
       "      <td>Albus Dumbledore</td>\n",
       "      <td>I should have known that you would be here, Pr...</td>\n",
       "    </tr>\n",
       "    <tr>\n",
       "      <td>1</td>\n",
       "      <td>2</td>\n",
       "      <td>1</td>\n",
       "      <td>Minerva McGonagall</td>\n",
       "      <td>Good evening, Professor Dumbledore. Are the ru...</td>\n",
       "    </tr>\n",
       "    <tr>\n",
       "      <td>2</td>\n",
       "      <td>3</td>\n",
       "      <td>1</td>\n",
       "      <td>Albus Dumbledore</td>\n",
       "      <td>I'm afraid so, Professor. The good, and the bad.</td>\n",
       "    </tr>\n",
       "    <tr>\n",
       "      <td>3</td>\n",
       "      <td>4</td>\n",
       "      <td>1</td>\n",
       "      <td>Minerva McGonagall</td>\n",
       "      <td>And the boy?</td>\n",
       "    </tr>\n",
       "    <tr>\n",
       "      <td>4</td>\n",
       "      <td>5</td>\n",
       "      <td>1</td>\n",
       "      <td>Albus Dumbledore</td>\n",
       "      <td>Hagrid is bringing him.</td>\n",
       "    </tr>\n",
       "  </tbody>\n",
       "</table>\n",
       "</div>"
      ],
      "text/plain": [
       "   ID_number  scene      character_name  \\\n",
       "0          1      1    Albus Dumbledore   \n",
       "1          2      1  Minerva McGonagall   \n",
       "2          3      1    Albus Dumbledore   \n",
       "3          4      1  Minerva McGonagall   \n",
       "4          5      1    Albus Dumbledore   \n",
       "\n",
       "                                            dialogue  \n",
       "0  I should have known that you would be here, Pr...  \n",
       "1  Good evening, Professor Dumbledore. Are the ru...  \n",
       "2   I'm afraid so, Professor. The good, and the bad.  \n",
       "3                                       And the boy?  \n",
       "4                            Hagrid is bringing him.  "
      ]
     },
     "execution_count": 1,
     "metadata": {},
     "output_type": "execute_result"
    }
   ],
   "source": [
    "import pandas as pd\n",
    "data = pd.read_csv('../data/hp_script.csv',encoding='cp1252')\n",
    "data.head()\n"
   ]
  },
  {
   "cell_type": "code",
   "execution_count": 3,
   "metadata": {},
   "outputs": [],
   "source": [
    "data.drop('ID_number',axis='columns', inplace=True)"
   ]
  },
  {
   "cell_type": "code",
   "execution_count": 4,
   "metadata": {},
   "outputs": [
    {
     "data": {
      "text/html": [
       "<div>\n",
       "<style scoped>\n",
       "    .dataframe tbody tr th:only-of-type {\n",
       "        vertical-align: middle;\n",
       "    }\n",
       "\n",
       "    .dataframe tbody tr th {\n",
       "        vertical-align: top;\n",
       "    }\n",
       "\n",
       "    .dataframe thead th {\n",
       "        text-align: right;\n",
       "    }\n",
       "</style>\n",
       "<table border=\"1\" class=\"dataframe\">\n",
       "  <thead>\n",
       "    <tr style=\"text-align: right;\">\n",
       "      <th></th>\n",
       "      <th>scene</th>\n",
       "      <th>character_name</th>\n",
       "      <th>dialogue</th>\n",
       "    </tr>\n",
       "  </thead>\n",
       "  <tbody>\n",
       "    <tr>\n",
       "      <td>0</td>\n",
       "      <td>1</td>\n",
       "      <td>Albus Dumbledore</td>\n",
       "      <td>I should have known that you would be here, Pr...</td>\n",
       "    </tr>\n",
       "    <tr>\n",
       "      <td>1</td>\n",
       "      <td>1</td>\n",
       "      <td>Minerva McGonagall</td>\n",
       "      <td>Good evening, Professor Dumbledore. Are the ru...</td>\n",
       "    </tr>\n",
       "    <tr>\n",
       "      <td>2</td>\n",
       "      <td>1</td>\n",
       "      <td>Albus Dumbledore</td>\n",
       "      <td>I'm afraid so, Professor. The good, and the bad.</td>\n",
       "    </tr>\n",
       "    <tr>\n",
       "      <td>3</td>\n",
       "      <td>1</td>\n",
       "      <td>Minerva McGonagall</td>\n",
       "      <td>And the boy?</td>\n",
       "    </tr>\n",
       "    <tr>\n",
       "      <td>4</td>\n",
       "      <td>1</td>\n",
       "      <td>Albus Dumbledore</td>\n",
       "      <td>Hagrid is bringing him.</td>\n",
       "    </tr>\n",
       "  </tbody>\n",
       "</table>\n",
       "</div>"
      ],
      "text/plain": [
       "   scene      character_name  \\\n",
       "0      1    Albus Dumbledore   \n",
       "1      1  Minerva McGonagall   \n",
       "2      1    Albus Dumbledore   \n",
       "3      1  Minerva McGonagall   \n",
       "4      1    Albus Dumbledore   \n",
       "\n",
       "                                            dialogue  \n",
       "0  I should have known that you would be here, Pr...  \n",
       "1  Good evening, Professor Dumbledore. Are the ru...  \n",
       "2   I'm afraid so, Professor. The good, and the bad.  \n",
       "3                                       And the boy?  \n",
       "4                            Hagrid is bringing him.  "
      ]
     },
     "execution_count": 4,
     "metadata": {},
     "output_type": "execute_result"
    }
   ],
   "source": [
    "data.head()"
   ]
  },
  {
   "cell_type": "code",
   "execution_count": null,
   "metadata": {},
   "outputs": [],
   "source": [
    "data.to_json(\"../data/script_hp_json\", orient=\"records\")"
   ]
  },
  {
   "cell_type": "code",
   "execution_count": null,
   "metadata": {},
   "outputs": [],
   "source": [
    "#Este comando es en la terminal (En Mac y Ubuntu funciona) en windows cargar a mano desde MongoDBCompass\n",
    "# mongoimport --db HP --collection frases --jsonArray script_hp_json"
   ]
  }
 ],
 "metadata": {
  "kernelspec": {
   "display_name": "Python 3",
   "language": "python",
   "name": "python3"
  },
  "language_info": {
   "codemirror_mode": {
    "name": "ipython",
    "version": 3
   },
   "file_extension": ".py",
   "mimetype": "text/x-python",
   "name": "python",
   "nbconvert_exporter": "python",
   "pygments_lexer": "ipython3",
   "version": "3.7.3"
  },
  "toc": {
   "base_numbering": 1,
   "nav_menu": {},
   "number_sections": true,
   "sideBar": true,
   "skip_h1_title": false,
   "title_cell": "Table of Contents",
   "title_sidebar": "Contents",
   "toc_cell": false,
   "toc_position": {},
   "toc_section_display": true,
   "toc_window_display": false
  }
 },
 "nbformat": 4,
 "nbformat_minor": 4
}
